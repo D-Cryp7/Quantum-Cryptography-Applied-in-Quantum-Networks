{
 "cells": [
  {
   "cell_type": "markdown",
   "id": "f36d8c72",
   "metadata": {},
   "source": [
    "### Simple BB84 Implementation in Netsquid for 2 nodes\n",
    "#### This implementation uses the BB84 Protocol for Quantum Key Distribution in a 2-node Quantum Network . It creates a single Quantum Channel (unidirectional) and two Classsical Channels (bidirectional) with the respective Callback Functions.\n",
    "_ref: https://github.com/h-oll/netsquid-private/blob/master/BB84/BB84.py (adapted by D-Cryp7 for Netsquid 1.1.6)_"
   ]
  },
  {
   "cell_type": "code",
   "execution_count": 1,
   "id": "5ba3afb5",
   "metadata": {},
   "outputs": [],
   "source": [
    "# imports\n",
    "import numpy as np\n",
    "import netsquid as ns\n",
    "from netsquid.nodes.node import Node\n",
    "from netsquid.nodes.connections import DirectConnection\n",
    "from netsquid.components import ClassicalChannel, QuantumChannel,FibreLossModel\n",
    "from netsquid.qubits import create_qubits\n",
    "from netsquid.qubits.operators import *\n",
    "from random import seed , randint\n",
    "from netsquid.protocols import Protocol\n",
    "from netsquid.components.models import FixedDelayModel, GaussianDelayModel, FibreDelayModel"
   ]
  },
  {
   "cell_type": "code",
   "execution_count": 2,
   "id": "c1686238",
   "metadata": {},
   "outputs": [],
   "source": [
    "# Measures randomly in the Standard or Hadamard basis\n",
    "def random_ZX_measure(num_bits, qlist):\n",
    "    seed(randint(0, 2 ** num_bits))\n",
    "    opList = [2] * num_bits\n",
    "    loc_res_measure = [2] * num_bits\n",
    "    for q in qlist:\n",
    "        rbit = randint(0, 1)\n",
    "        a = int(q.name[1:])\n",
    "        opList[a] = rbit\n",
    "        if rbit == 0:\n",
    "            loc_res_measure[a] = ns.qubits.qubitapi.measure(q, observable = Z) #measure in standard basis\n",
    "        elif rbit == 1:\n",
    "            loc_res_measure[a] = ns.qubits.qubitapi.measure(q, observable = X) #measure in Hadamard basis\n",
    "        else:\n",
    "            print(\"measuring ERROR!!\\n\")\n",
    "    return opList,loc_res_measure"
   ]
  },
  {
   "cell_type": "code",
   "execution_count": 3,
   "id": "48374b16",
   "metadata": {},
   "outputs": [],
   "source": [
    "# Create random qubits - Starting the BB84 Protocol\n",
    "def create_random_qubits(num_bits, v):\n",
    "    seed(randint(0, 4 ** num_bits))\n",
    "    res_state = []\n",
    "    qlist = []\n",
    "    qlist = create_qubits(num_bits, system_name = \"Q\") \n",
    "    for i in range(0, num_bits):\n",
    "        res_state.append(randint(0,3))\n",
    "    det = []\n",
    "    '''\n",
    "        a: Random Number between 0 and 3\n",
    "           0: |0> state (default)\n",
    "           1: |1> state (apply single-qubit Pauli-X gate to |0>)\n",
    "           2: |+> state (apply Hadamard gate to |0>)\n",
    "           3: |-> state (apply single-qubit Pauli-X gate and Hadamard gate to |0>)\n",
    "    '''\n",
    "    for a, b in zip(res_state, qlist):\n",
    "        if a == 0:\n",
    "            det.append(\"0\")\n",
    "            pass\n",
    "        elif a == 1:\n",
    "            ns.qubits.operate(b, ns.X)\n",
    "            det.append(\"1\")\n",
    "        elif a == 2:\n",
    "            ns.qubits.operate(b, ns.H)\n",
    "            det.append(\"+\")\n",
    "        elif a == 3:\n",
    "            ns.qubits.operate(b, ns.X)\n",
    "            ns.qubits.operate(b, ns.H)\n",
    "            det.append(\"-\")\n",
    "        else:\n",
    "            print(\"Create random bits ERROR!!\")\n",
    "    if v: # for verbose\n",
    "        print(\"Alice Random Qubits: \", det, str(len(det)) + \" Qubits\")\n",
    "    return res_state, qlist"
   ]
  },
  {
   "cell_type": "code",
   "execution_count": 5,
   "id": "ef17c7e5",
   "metadata": {},
   "outputs": [],
   "source": [
    "# Match measures between Alice and Bob\n",
    "def Compare_measurement(num_bits, stateList, opList):\n",
    "    matchList = []\n",
    "    for i in range(0, num_bits):\n",
    "        if stateList[i] < 2 and opList[i] == 0:    #measure in standard basis\n",
    "            matchList.append(i)\n",
    "        elif stateList[i] >= 2 and opList[i] == 1: #measure in Hadamard basis\n",
    "            matchList.append(i)\n",
    "        else:\n",
    "            pass\n",
    "    return matchList"
   ]
  },
  {
   "cell_type": "code",
   "execution_count": 6,
   "id": "5b9c1654",
   "metadata": {},
   "outputs": [],
   "source": [
    "class BB84(Protocol):\n",
    "    \n",
    "    # BB84 Functions\n",
    "    \n",
    "    # Step 1: Alice send random qubits to Bob\n",
    "    def BB84_Alice_sendQubits(self):\n",
    "        self.stateList,qlist = create_random_qubits(self.num_bits, self.v)\n",
    "        self.node_A.ports[\"portQA\"].tx_output(qlist)\n",
    "    # Step 2 & 3: Bob measure randomly and send the list of measures to Alice\n",
    "    def BB84_Bob_measure_send(self, qlist): # some qubits might be lost\n",
    "        qlist = qlist.items\n",
    "        if isinstance(qlist[0], int):\n",
    "            pass\n",
    "        else:\n",
    "            # B measuring\n",
    "            B_basis, self.res_measure = random_ZX_measure(self.num_bits, qlist)\n",
    "            det = []\n",
    "            for el in B_basis:\n",
    "                if el == 0:\n",
    "                    det.append('0')\n",
    "                else:\n",
    "                    det.append('+')\n",
    "            if B_basis == -1:\n",
    "                print(\"B measuring failed!!\")\n",
    "            else :\n",
    "                # B send measurement\n",
    "                if self.v: # for verbose\n",
    "                    print(\"Bob get: \", qlist)\n",
    "                    print(\"Bob measure: \", det)\n",
    "                self.portCB.tx_output(B_basis)  \n",
    "    # Step 4 & 5: Alice generates a match list and send it to Bob \n",
    "    def BB84_Alice_measure_send_keygen(self, opList):\n",
    "        opList = opList.items\n",
    "        # A measure \n",
    "        matchList = Compare_measurement(self.num_bits, self.stateList, opList) #get opList from B\n",
    "        \n",
    "        # A return  matchList to B\n",
    "        self.portCA.tx_output(matchList)\n",
    "        \n",
    "        for i in matchList:\n",
    "            self.key_A.append(self.stateList[i] % 2) #quantum state 0,+:0    1,-:1\n",
    "        if self.v:\n",
    "            print(\"Alice get: \", opList)\n",
    "            print(\"Match List: \", matchList)\n",
    "            print(\"Alice Shared Key: \",self.key_A)\n",
    "        return self.key_A\n",
    "    # Step 6: Bob recieves the match list and generates the key - Protocol completed\n",
    "    def BB84_Bob_keygen(self, matchList):\n",
    "        matchList = matchList.items\n",
    "\n",
    "        for i in matchList:\n",
    "            self.key_B.append(self.res_measure[int(i)][0])\n",
    "        if self.v:\n",
    "            print(\"Bob Shared Key: \",self.key_B)\n",
    "        return self.key_B\n",
    "    \n",
    "    # Initialization of the Quantum Network\n",
    "    def __init__(self, num_bits = 8, fibre_len = 10**-6, fibre_loss_init = 0.2, fibre_loss_length = 0.25, \n",
    "                 v = False):\n",
    "        super().__init__()\n",
    "        self.node_A = Node(\"A\",ID = 0, port_names=[\"portQA\",\"portCA\"])\n",
    "        self.node_B = Node(\"B\",ID = 1, port_names=[\"portQB\",\"portCB\"])\n",
    "        self.portCB = self.node_B.ports[\"portCB\"] #classical ports are not inherited by nodes\n",
    "        self.portCA = self.node_A.ports[\"portCA\"]\n",
    "        self.MyQfiber = None\n",
    "        self.MyCfiber = None\n",
    "        self.num_bits = num_bits\n",
    "        self.stateList = None\n",
    "        self.res_measure = None\n",
    "        self.key_A = []\n",
    "        self.key_B = []\n",
    "        self.fiberLenth = fibre_len\n",
    "        self.fibre_loss_init = fibre_loss_init\n",
    "        self.fibre_loss_length = fibre_loss_length\n",
    "        self.v = v\n",
    "        self.start()\n",
    "        \n",
    "    def stop(self):\n",
    "        super().stop()\n",
    "        self._running = False\n",
    "        \n",
    "    def is_connected():\n",
    "        super().is_connected()\n",
    "        pass\n",
    "    \n",
    "    # Start the BB84 Protocol\n",
    "    def start(self):\n",
    "        super().start()\n",
    "\n",
    "        # print(\"starting BB84 protocol\")\n",
    "        \n",
    "        # Create Quantum Channel (Optical Fiber)\n",
    "        self.MyQfiber = QuantumChannel(\"QFibre_A->B\", length = self.fiberLenth, \n",
    "            loss_model = FibreLossModel(p_loss_length = self.fibre_loss_length,\n",
    "                                        p_loss_init = self.fibre_loss_init), \n",
    "            depolar_rate = 0, noise_model = \"default\") \n",
    "\n",
    "        # Create Classical Channel (Optical Fiber)\n",
    "        self.MyCfiber = DirectConnection(\"CFibreConn_A->B\",\n",
    "            ClassicalChannel(\"CFibre_A->B\", length = self.fiberLenth),\n",
    "            ClassicalChannel(\"CFibre_B->A\", length = self.fiberLenth))\n",
    "        \n",
    "        self.node_A.connect_to(self.node_B, self.MyQfiber,\n",
    "            local_port_name=\"portQA\", remote_port_name=\"portQB\")\n",
    "        \n",
    "        self.node_B.connect_to(self.node_A, self.MyCfiber,\n",
    "            local_port_name=\"portCB\", remote_port_name=\"portCA\")\n",
    "        \n",
    "        # Set Callback Functions\n",
    "        self.node_B.ports[\"portQB\"].bind_input_handler(self.BB84_Bob_measure_send)\n",
    "        self.node_A.ports[\"portCA\"].bind_input_handler(self.BB84_Alice_measure_send_keygen)\n",
    "        self.node_B.ports[\"portCB\"].bind_input_handler(self.BB84_Bob_keygen)\n",
    "        \n",
    "        # Alice Starts\n",
    "        self.BB84_Alice_sendQubits()"
   ]
  },
  {
   "cell_type": "code",
   "execution_count": 18,
   "id": "e8564d8b",
   "metadata": {},
   "outputs": [],
   "source": [
    "import time # for benchmarks\n",
    "\n",
    "def run_BB84_sim(runtimes = 1, num_bits = 8, fibre_len = 10**-6, fibre_loss_init = 0.2,fibre_loss_length = 0.25, verbose = False):\n",
    "    ns.sim_reset()\n",
    "    \n",
    "    run_times = runtimes\n",
    "    MyBB84List = []  # Resulted keys in the QKD\n",
    "    \n",
    "    for i in range(run_times): \n",
    "        MyBB84List.append(BB84(num_bits,fibre_len,fibre_loss_init,fibre_loss_length, verbose).key_B)\n",
    "        \n",
    "    ns.sim_run()\n",
    "    \n",
    "    return MyBB84List"
   ]
  },
  {
   "cell_type": "code",
   "execution_count": 21,
   "id": "cd9303bd",
   "metadata": {
    "scrolled": true
   },
   "outputs": [
    {
     "data": {
      "text/plain": [
       "[[0, 1, 0],\n",
       " [0, 1, 1, 1],\n",
       " [0, 0, 0, 1],\n",
       " [1, 0],\n",
       " [1, 1, 1, 1],\n",
       " [0, 1, 0],\n",
       " [0, 1, 0, 0, 1],\n",
       " [1, 1],\n",
       " [1, 0, 0, 1],\n",
       " [1, 0, 0, 0]]"
      ]
     },
     "execution_count": 21,
     "metadata": {},
     "output_type": "execute_result"
    }
   ],
   "source": [
    "# 10 independent BB84 Protocol simulations\n",
    "run_BB84_sim(10, 8, 10**-18, 0.2, 0.25, False)"
   ]
  },
  {
   "cell_type": "markdown",
   "id": "9dc39af3",
   "metadata": {},
   "source": [
    "#### Symmetric Encryption\n",
    "With the key exchanged, we can encrypt messages with AES for example."
   ]
  },
  {
   "cell_type": "code",
   "execution_count": 25,
   "id": "082787b2",
   "metadata": {},
   "outputs": [
    {
     "data": {
      "text/plain": [
       "'b11d6dadb498f11aea1684bdb9411a869c0cbf2803938bb37874440107e8856f'"
      ]
     },
     "execution_count": 25,
     "metadata": {},
     "output_type": "execute_result"
    }
   ],
   "source": [
    "from hashlib import sha256\n",
    "from Crypto.Cipher import AES\n",
    "from Crypto.Util.Padding import pad, unpad\n",
    "\n",
    "k = run_BB84_sim(1, 256, 10**-18)[0]\n",
    "strk = ''.join([str(i) for i in k])\n",
    "key = bytes(int(strk[i : i + 8], 2) for i in range(0, len(strk), 8))\n",
    "key_hash = sha256(key).digest()\n",
    "cipher = AES.new(key_hash, AES.MODE_ECB)\n",
    "m = b\"S3CR3T_M3SS4G3!!\"\n",
    "c = cipher.encrypt(pad(m, 16))\n",
    "c.hex()"
   ]
  },
  {
   "cell_type": "markdown",
   "id": "3da414e3",
   "metadata": {},
   "source": [
    "#### Interesting plots\n",
    "The reference also makes some plots using the following function"
   ]
  },
  {
   "cell_type": "code",
   "execution_count": 26,
   "id": "d0d3f3d4",
   "metadata": {},
   "outputs": [],
   "source": [
    "import matplotlib.pyplot as plt\n",
    "\n",
    "def BB84_plot():\n",
    "    y_axis=[]\n",
    "    x_axis=[]\n",
    "    run_times=25\n",
    "    num_bits=256\n",
    "    min_dis=1000\n",
    "    max_dis=10000\n",
    "\n",
    "    #first curve\n",
    "    for i in range(min_dis,max_dis,1000):\n",
    "        key_sum=0.0\n",
    "        x_axis.append(1.*i/1000) \n",
    "        key_list=run_BB84_sim(run_times,num_bits,1.*i/1000) #given runtimes, numberof bits and distance, use default loss model\n",
    "        for j in key_list:\n",
    "            key_sum=key_sum+len(j)\n",
    "        y_axis.append(key_sum/run_times/num_bits)\n",
    "        \n",
    "    plt.plot(x_axis, y_axis, 'go-',label='FibreLossModel1')\n",
    "    plt.plot(x_axis, [np.mean(y_axis)]*len(y_axis), linestyle='--', label = \"Mean1\")\n",
    "    \n",
    "    y_axis.clear() \n",
    "    x_axis.clear()\n",
    "    \n",
    "    #second curve\n",
    "    for i in range(min_dis,max_dis,1000):\n",
    "        key_sum=0.0\n",
    "        x_axis.append(1.*i/1000) \n",
    "        key_list=run_BB84_sim(run_times,num_bits,1.*i/1000  #given runtimes, numberof bits, distance and loss model configuration\n",
    "            ,fibre_loss_init=0.83,fibre_loss_length=0.2)\n",
    "        for j in key_list:\n",
    "            key_sum=key_sum+len(j)\n",
    "        y_axis.append(key_sum/run_times/num_bits)\n",
    "\n",
    "    plt.plot(x_axis, y_axis, 'bo-',label='FibreLossModel2')\n",
    "    plt.plot(x_axis, [np.mean(y_axis)]*len(y_axis), linestyle='--', label = \"Mean2\")\n",
    "        \n",
    "        \n",
    "    plt.ylabel('average key length/original qubits length')\n",
    "    plt.xlabel('fibre length (km)')\n",
    "\n",
    "    \n",
    "    #plt.xscale('log')\n",
    "    plt.legend()\n",
    "    plt.savefig('plot.png')\n",
    "    plt.show()"
   ]
  },
  {
   "cell_type": "markdown",
   "id": "5630962b",
   "metadata": {},
   "source": [
    "Basically, it runs the BB84 Protocol many times with different fibre loss models. The only thing that is interesting is that if we want to generate a 256 bits key for example, the relation between the resulting key length and the actual key size that the user wants is 50% due to the Bob errors in random measures. It will be more interesting if the insert some noise and play more with the optical fiber model, in addition to introduce the Quantum Memory and Quantum Processor, which have functions in Netsquid."
   ]
  },
  {
   "cell_type": "code",
   "execution_count": 27,
   "id": "5c8ee649",
   "metadata": {},
   "outputs": [
    {
     "data": {
      "image/png": "[encoded data removed]",
      "text/plain": [
       "<Figure size 432x288 with 1 Axes>"
      ]
     },
     "metadata": {
      "needs_background": "light"
     },
     "output_type": "display_data"
    },
    {
     "name": "stdout",
     "output_type": "stream",
     "text": [
      "CPU times: user 23.6 s, sys: 495 ms, total: 24.1 s\n",
      "Wall time: 25.5 s\n"
     ]
    }
   ],
   "source": [
    "%%time \n",
    "BB84_plot()"
   ]
  }
 ],
 "metadata": {
  "kernelspec": {
   "display_name": "Python 3",
   "language": "python",
   "name": "python3"
  },
  "language_info": {
   "codemirror_mode": {
    "name": "ipython",
    "version": 3
   },
   "file_extension": ".py",
   "mimetype": "text/x-python",
   "name": "python",
   "nbconvert_exporter": "python",
   "pygments_lexer": "ipython3",
   "version": "3.8.12"
  }
 },
 "nbformat": 4,
 "nbformat_minor": 5
}
