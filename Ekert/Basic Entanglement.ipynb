{
 "cells": [
  {
   "cell_type": "markdown",
   "id": "2c2f87ab",
   "metadata": {},
   "source": [
    "### Basic Quantum Entanglement for Ekert Protocol using Quantum Gates\n",
    "#### This implementation generates entanglement between 2 qubits using Quantum Gates for the Ekert Protocol. Next, the idea is to create a Quantum Network with that QKD Protocol.\n",
    "_ref: https://qiskit.org/textbook/ch-gates/multiple-qubits-entangled-states.html (adapted by D-Cryp7 for Netsquid 1.1.6)_"
   ]
  },
  {
   "cell_type": "code",
   "execution_count": 3,
   "id": "3c394876",
   "metadata": {},
   "outputs": [
    {
     "data": {
      "text/plain": [
       "'91a1640e2e7fa7b58742ce5a07de01ca690dd5e318cf97bf82e42585b92ffe01'"
      ]
     },
     "execution_count": 3,
     "metadata": {},
     "output_type": "execute_result"
    }
   ],
   "source": [
    "import netsquid as ns\n",
    "from random import randint\n",
    "from hashlib import sha256\n",
    "from Crypto.Cipher import AES\n",
    "from Crypto.Util.Padding import pad, unpad\n",
    "\n",
    "def random_basis():\n",
    "    r = randint(0, 1)\n",
    "    return ns.Z if r else ns.X\n",
    "\n",
    "def measure(q, obs):\n",
    "    measurement_result, prob = ns.qubits.measure(q, obs)\n",
    "    if measurement_result == 0:\n",
    "        state = \"|0>\" if obs == ns.Z else \"|+>\"\n",
    "    else:\n",
    "        state = \"|1>\" if obs == ns.Z else \"|->\"\n",
    "    # print(f\"Measured {state} with probability {prob:.1f}\")\n",
    "    return (\"Z\" if obs == ns.Z else \"X\"), measurement_result, prob\n",
    "\n",
    "ns.sim_reset()\n",
    "alice_measures, bob_measures = [], []\n",
    "for i in range(256):\n",
    "    qubits = ns.qubits.create_qubits(2)\n",
    "    q1, q2 = qubits[0], qubits[1]\n",
    "    ns.qubits.operate(q1, ns.H) # Hadamard gate in q1\n",
    "    ns.qubits.combine_qubits([q1, q2]) # Combine states. ej: |0> |0> -> |00>\n",
    "    ns.qubits.operate([q1, q2], ns.CX) # CNOT gate in q1, q2 (Entanglement)\n",
    "    # print(ns.qubits.reduced_dm([q1, q2]))\n",
    "    alice_measures.append(measure(q1, random_basis())) # Alice measure, colapse the Entanglement\n",
    "    bob_measures.append(measure(q2, random_basis())) # Bob measure with 100% in the same basis\n",
    "\n",
    "alice_match, bob_match = [], []\n",
    "for i in range(len(alice_measures)):\n",
    "    if alice_measures[i][0] == bob_measures[i][0]:\n",
    "        alice_match.append(alice_measures[i])\n",
    "        bob_match.append(bob_measures[i])\n",
    "        \n",
    "alice_key = [el[1] for el in alice_match]\n",
    "bob_key = [el[1] for el in bob_match]\n",
    "assert alice_key == bob_key\n",
    "\n",
    "strk = ''.join([str(i) for i in bob_key])\n",
    "key = bytes(int(strk[i : i + 8], 2) for i in range(0, len(strk), 8))\n",
    "key_hash = sha256(key).digest()\n",
    "cipher = AES.new(key_hash, AES.MODE_ECB)\n",
    "m = b\"S3CR3T_M3SS4G3!!\"\n",
    "c = cipher.encrypt(pad(m, 16))\n",
    "c.hex()"
   ]
  }
 ],
 "metadata": {
  "kernelspec": {
   "display_name": "Python 3",
   "language": "python",
   "name": "python3"
  },
  "language_info": {
   "codemirror_mode": {
    "name": "ipython",
    "version": 3
   },
   "file_extension": ".py",
   "mimetype": "text/x-python",
   "name": "python",
   "nbconvert_exporter": "python",
   "pygments_lexer": "ipython3",
   "version": "3.8.12"
  }
 },
 "nbformat": 4,
 "nbformat_minor": 5
}
