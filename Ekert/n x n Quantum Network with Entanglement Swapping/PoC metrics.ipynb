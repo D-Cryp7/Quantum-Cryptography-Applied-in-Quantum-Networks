{
 "cells": [
  {
   "cell_type": "markdown",
   "id": "ba02e4a4",
   "metadata": {
    "id": "ba02e4a4"
   },
   "source": [
    "### Entanglement-based Quantum Key Distribution in a $n$ x $n$ grid topology using Netsquid\n",
    "\n",
    "#### The objetive of this project is to use the Ekert Protocol in order to implement QKD in a $n$ x $n$ Quantum Network. The following list describes the milestones to be achieved:\n",
    "* Entangle a random route using Entanglement Swapping (Completed)\n",
    "* Entangle two or more disjunctive routes (Completed)\n",
    "* Generate the shared key in each node (In process)  \n",
    "\n",
    "#### Code functionality: This implementation creates a $n$ x $n$ grid Quantum Network. After the Quantum Network is defined, the simulation starts dynamic protocols depending on the connection requirements. When the simulation ends, it brings back the path, fidelity and time information.\n",
    "\n",
    "_refs_: \n",
    "* https://docs.netsquid.org/latest-release/learn_examples/learn.examples.repeater_chain.html \n",
    "* https://docs.netsquid.org/latest-release/learn_examples/learn.examples.repeater.html \n",
    "* Evan Sutcliffe, Matty J. Hoban & Alejandra Beghelli - Multipath Routing for Multipartite State Distribution in Quantum Networks  \n",
    "\n",
    "_(adapted by D-Cryp7 for Netsquid 1.1.6)_"
   ]
  },
  {
   "cell_type": "markdown",
   "id": "9a8def50",
   "metadata": {
    "id": "9a8def50"
   },
   "source": [
    "#### Limitations:\n",
    "* Conjunctive routes causes a Race Condition error. For now, our aim focus on disjunctive routes, due to the possible alternative options."
   ]
  },
  {
   "cell_type": "code",
   "execution_count": 1,
   "id": "6a1b9ced",
   "metadata": {},
   "outputs": [],
   "source": [
    "# Library imports\n",
    "import warnings\n",
    "warnings.simplefilter(action='ignore', category=FutureWarning)\n",
    "from custom_netsquid_functions import *\n",
    "from base_netsquid_functions import *\n",
    "from util import *"
   ]
  },
  {
   "cell_type": "code",
   "execution_count": null,
   "id": "efc7e91b",
   "metadata": {
    "id": "efc7e91b"
   },
   "outputs": [],
   "source": [
    "def setup_datacollector(network, protocol, path, node_qconnections):\n",
    "    \"\"\"\n",
    "    Setup the datacollector to calculate the fidelity\n",
    "    when the CorrectionProtocol has finished.\n",
    "\n",
    "    Parameters\n",
    "    ----------\n",
    "    network : :class:`~netsquid.nodes.network.Network`\n",
    "        Repeater chain network to put protocols on.\n",
    "\n",
    "    protocol : :class:`~netsquid.protocols.protocol.Protocol`\n",
    "        Protocol holding all subprotocols used in the network.\n",
    "\n",
    "    Returns\n",
    "    -------\n",
    "    :class:`~netsquid.util.datacollector.DataCollector`\n",
    "        Datacollector recording fidelity data.\n",
    "\n",
    "    \"\"\"\n",
    "\n",
    "    # Ensure nodes are ordered in the chain:\n",
    "    # nodes = [network.nodes[name] for name in sorted(network.nodes.keys())]\n",
    "    nodes = [network.nodes[str(name)] for name in path]\n",
    "    A_port = int(node_qconnections[nodes[0].name][nodes[1].name].split(\"-\")[0][-1])\n",
    "    B_port = int(node_qconnections[nodes[-1].name][nodes[-2].name].split(\"-\")[0][-1])\n",
    "    \n",
    "    def calc_fidelity(evexpr):\n",
    "        qubit_a, = nodes[0].qmemory.peek([A_port])\n",
    "        qubit_b, = nodes[-1].qmemory.peek([B_port])\n",
    "        fidelity = ns.qubits.fidelity([qubit_a, qubit_b], ks.b00, squared = True)\n",
    "        return {\"fidelity\": fidelity}\n",
    "\n",
    "    dc = DataCollector(calc_fidelity, include_entity_name=False)\n",
    "    dc.collect_on(pydynaa.EventExpression(source=protocol.subprotocols['CorrectProtocol'],\n",
    "                                          event_type=Signals.SUCCESS.value))\n",
    "    return dc"
   ]
  },
  {
   "cell_type": "markdown",
   "id": "47a7e7ec",
   "metadata": {},
   "source": [
    "#### Record Fidelity and Loss metrics (PoC)"
   ]
  },
  {
   "cell_type": "code",
   "execution_count": null,
   "id": "0dd46ac6",
   "metadata": {},
   "outputs": [],
   "source": [
    "%%time\n",
    "\n",
    "import time\n",
    "\n",
    "# Default values\n",
    "\n",
    "n = 10\n",
    "node_distance = 20\n",
    "num_iters = 256\n",
    "est_runtime = (0.5 + 2 * n - 1) * node_distance * 5e3\n",
    "\n",
    "results = {\n",
    "    \"path\": [],\n",
    "    \"path_length\": [],\n",
    "    \"fidelity_rate\": [],\n",
    "    \"loss\": []\n",
    "}\n",
    "\n",
    "try:\n",
    "    file = open(f\"results_{n}x{n}.csv\", \"r\").close()\n",
    "    print(f\"Found results_{n}x{n}.csv\")\n",
    "except:\n",
    "    print(f\"Creating results_{n}x{n}.csv\")\n",
    "    file = open(f\"results_{n}x{n}.csv\", \"w\").write(\"path,path_length,fidelity_rate,loss\")\n",
    "\n",
    "for i in range(10000):\n",
    "    ns.sim_reset()\n",
    "    network, node_qconnections = network_setup(n, node_distance = node_distance,\n",
    "                            source_frequency = 1e9 / est_runtime)\n",
    "\n",
    "    qdf = pandas.DataFrame(node_qconnections)\n",
    "    qdf = qdf.fillna(\"\")\n",
    "    \n",
    "    path = get_random_route(network)\n",
    "\n",
    "    traffic = {\n",
    "        \"path\": [path]\n",
    "    }\n",
    "\n",
    "    # print(f\"Simulation from path: {path}\")\n",
    "\n",
    "    df = run_simulation(network, qdf, est_runtime, num_iters, traffic, setup_datacollector)\n",
    "\n",
    "    rate = df[0].dataframe[\"fidelity\"].sum() / num_iters\n",
    "    loss = 1 - (df[0].dataframe.shape[0] / num_iters)\n",
    "\n",
    "    results_df = pandas.read_csv(f\"results_{n}x{n}.csv\")\n",
    "    results_df.loc[len(results_df.index)] = [path, len(path), rate * 100, loss * 100]\n",
    "    results_df.to_csv(f\"results_{n}x{n}.csv\", index = False)"
   ]
  },
  {
   "cell_type": "markdown",
   "id": "96279ed9",
   "metadata": {},
   "source": [
    "#### Mean attemps until successful entanglement"
   ]
  },
  {
   "cell_type": "code",
   "execution_count": null,
   "id": "b80aec1c",
   "metadata": {},
   "outputs": [],
   "source": [
    "%%time\n",
    "\n",
    "import time\n",
    "\n",
    "# Default values\n",
    "\n",
    "n = 3\n",
    "length = 3 # length of path\n",
    "node_distance = 20\n",
    "num_iters = 256\n",
    "est_runtime = (0.5 + 2 * n - 1) * node_distance * 5e3\n",
    "\n",
    "results = {\n",
    "    \"fidelity\": [],\n",
    "    \"mean attemps\": []\n",
    "}\n",
    "\n",
    "try:\n",
    "    file = open(f\"entanglement_probability_results_{n}x{n}_length_{length}.csv\", \"r\").close()\n",
    "    print(f\"entanglement_probability_results_{n}x{n}_length_{length}.csv exists\")\n",
    "except:\n",
    "    print(f\"Creating entanglement_probability_results_{n}x{n}_length_{length}.csv\")\n",
    "    file = open(f\"entanglement_probability_results_{n}x{n}_length_{length}.csv\", \"w\").write(\"fidelity\")\n",
    "\n",
    "for i in range(10000):\n",
    "    ns.sim_reset()\n",
    "    network, node_qconnections = network_setup(n, node_distance = node_distance,\n",
    "                            source_frequency = 1e9 / est_runtime)\n",
    "\n",
    "    qdf = pandas.DataFrame(node_qconnections)\n",
    "    qdf = qdf.fillna(\"\")\n",
    "    \n",
    "    path = get_random_route(network)\n",
    "    while len(path) != length:\n",
    "        path = get_random_route(network)\n",
    "\n",
    "    traffic = {\n",
    "        \"path\": [path]\n",
    "    }\n",
    "\n",
    "    # print(f\"Simulation from path: {path}\")\n",
    "\n",
    "    df = run_simulation(network, qdf, est_runtime, num_iters, traffic, setup_datacollector)\n",
    "    \n",
    "    results_df = pandas.read_csv(f\"entanglement_probability_results_{n}x{n}_length_{length}.csv\")\n",
    "    for i in df[0].dataframe[\"fidelity\"].tolist():\n",
    "        fidelity_results = results_df[\"fidelity\"].tolist()\n",
    "        runs = zero_runs(fidelity_results) # sequences of zeroes in the fidelity list\n",
    "        if len(runs) == 0:\n",
    "            runs = 0\n",
    "        else:\n",
    "            runs = sum(runs[:,1] - runs[:,0]) / len(runs)\n",
    "        results_df = results_df.append({'fidelity': i, \"mean attemps\": runs}, ignore_index=True)\n",
    "        \n",
    "    results_df.to_csv(f\"entanglement_probability_results_{n}x{n}_length_{length}.csv\", index = False)"
   ]
  }
 ],
 "metadata": {
  "colab": {
   "collapsed_sections": [],
   "provenance": []
  },
  "kernelspec": {
   "display_name": "Python 3",
   "language": "python",
   "name": "python3"
  },
  "language_info": {
   "codemirror_mode": {
    "name": "ipython",
    "version": 3
   },
   "file_extension": ".py",
   "mimetype": "text/x-python",
   "name": "python",
   "nbconvert_exporter": "python",
   "pygments_lexer": "ipython3",
   "version": "3.8.15"
  }
 },
 "nbformat": 4,
 "nbformat_minor": 5
}
