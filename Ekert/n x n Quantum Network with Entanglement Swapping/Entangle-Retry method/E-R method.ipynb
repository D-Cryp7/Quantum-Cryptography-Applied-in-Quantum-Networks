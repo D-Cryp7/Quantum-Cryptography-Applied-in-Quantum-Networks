{
 "cells": [
  {
   "cell_type": "markdown",
   "id": "ba02e4a4",
   "metadata": {
    "id": "ba02e4a4"
   },
   "source": [
    "### Entanglement-based Quantum Key Distribution in a $n$ x $n$ grid topology using Netsquid\n",
    "\n",
    "#### The objetive of this project is to use the Ekert Protocol in order to implement QKD in a $n$ x $n$ Quantum Network. The following list describes the milestones to be achieved:\n",
    "* Entangle a random route using Entanglement Swapping (Completed)\n",
    "* Entangle two or more disjunctive routes (Completed)\n",
    "* Generate the shared key in each node (In process)  \n",
    "\n",
    "#### Code functionality: This implementation creates a $n$ x $n$ grid Quantum Network. After the Quantum Network is defined, the simulation starts dynamic protocols depending on the connection requirements. When the simulation ends, it brings back the path, fidelity and time information.\n",
    "\n",
    "_refs_: \n",
    "* https://docs.netsquid.org/latest-release/learn_examples/learn.examples.repeater_chain.html \n",
    "* https://docs.netsquid.org/latest-release/learn_examples/learn.examples.repeater.html \n",
    "* Evan Sutcliffe, Matty J. Hoban & Alejandra Beghelli - Multipath Routing for Multipartite State Distribution in Quantum Networks  \n",
    "\n",
    "_(adapted by D-Cryp7 for Netsquid 1.1.6)_"
   ]
  },
  {
   "cell_type": "markdown",
   "id": "9a8def50",
   "metadata": {
    "id": "9a8def50"
   },
   "source": [
    "#### Limitations:\n",
    "* Conjunctive routes causes a Race Condition error. For now, our aim focus on disjunctive routes, due to the possible alternative options."
   ]
  },
  {
   "cell_type": "code",
   "execution_count": 1,
   "id": "ead450a8",
   "metadata": {},
   "outputs": [],
   "source": [
    "# Library imports\n",
    "import warnings\n",
    "warnings.simplefilter(action='ignore', category=FutureWarning)\n",
    "import sys\n",
    "sys.path.insert(0, '../')\n",
    "from custom_netsquid_functions import *\n",
    "from base_netsquid_functions import *\n",
    "from util import *"
   ]
  },
  {
   "cell_type": "code",
   "execution_count": 4,
   "id": "efc7e91b",
   "metadata": {
    "id": "efc7e91b"
   },
   "outputs": [],
   "source": [
    "def setup_datacollector(network, protocol, path, node_qconnections):\n",
    "    \"\"\"\n",
    "    Setup the datacollector to calculate the fidelity\n",
    "    when the CorrectionProtocol has finished.\n",
    "\n",
    "    Parameters\n",
    "    ----------\n",
    "    network : :class:`~netsquid.nodes.network.Network`\n",
    "        Repeater chain network to put protocols on.\n",
    "\n",
    "    protocol : :class:`~netsquid.protocols.protocol.Protocol`\n",
    "        Protocol holding all subprotocols used in the network.\n",
    "\n",
    "    Returns\n",
    "    -------\n",
    "    :class:`~netsquid.util.datacollector.DataCollector`\n",
    "        Datacollector recording fidelity data.\n",
    "\n",
    "    \"\"\"\n",
    "    def random_basis():\n",
    "        r = randint(0, 1)\n",
    "        return ns.Z if r else ns.X\n",
    "\n",
    "    def measure(q, obs):\n",
    "        measurement_result, prob = ns.qubits.measure(q, obs)\n",
    "        if measurement_result == 0:\n",
    "            state = \"|0>\" if obs == ns.Z else \"|+>\"\n",
    "        else:\n",
    "            state = \"|1>\" if obs == ns.Z else \"|->\"\n",
    "        return (\"Z\" if obs == ns.Z else \"X\"), measurement_result, prob\n",
    "\n",
    "    # Ensure nodes are ordered in the chain:\n",
    "    # nodes = [network.nodes[name] for name in sorted(network.nodes.keys())]\n",
    "    nodes = [network.nodes[str(name)] for name in path]\n",
    "    A_port = int(node_qconnections[nodes[0].name][nodes[1].name].split(\"-\")[0][-1])\n",
    "    B_port = int(node_qconnections[nodes[-1].name][nodes[-2].name].split(\"-\")[0][-1])\n",
    "    nodes[0].shared_secret, nodes[-1].shared_secret = [], []\n",
    "    \n",
    "    nodes[0].entangled_qubits, nodes[-1].entangled_qubits = {}, {}\n",
    "    entangled = False\n",
    "    entangle_attemps = 0\n",
    "    def calc_fidelity(evexpr):\n",
    "        nonlocal entangled, entangle_attemps\n",
    "        qubit_a, = nodes[0].qmemory.peek([A_port])\n",
    "        qubit_b, = nodes[-1].qmemory.peek([B_port])\n",
    "        fidelity = ns.qubits.fidelity([qubit_a, qubit_b], ks.b00, squared = True)\n",
    "        measure_a = measure(qubit_a, random_basis())\n",
    "        measure_b = measure(qubit_b, random_basis())\n",
    "        if fidelity >= 0.9:\n",
    "            if not entangled:\n",
    "                print(f\"{path} entangled in {entangle_attemps} attemps: storing qubits\")\n",
    "                nodes[0].entangled_qubits[f\"{nodes[-1].name}\"] = qubit_a\n",
    "                nodes[-1].entangled_qubits[f\"{nodes[0].name}\"] = qubit_b\n",
    "                entangled = True\n",
    "            # QKD part\n",
    "            if measure_a[0] == measure_b[0]:\n",
    "                nodes[0].shared_secret.append(str(int(measure_a[1])))\n",
    "                nodes[-1].shared_secret.append(str(int(measure_b[1])))\n",
    "        else:\n",
    "            entangle_attemps += 1\n",
    "        return {\"fidelity\": fidelity, \n",
    "                \"A_measure\": measure_a[0], \"A_measure_result\": measure_a[1], \n",
    "                \"B_measure\": measure_b[0], \"B_measure_result\": measure_b[1]}\n",
    "\n",
    "    dc = DataCollector(calc_fidelity, include_entity_name=False)\n",
    "    dc.collect_on(pydynaa.EventExpression(source=protocol.subprotocols['CorrectProtocol'],\n",
    "                                          event_type=Signals.SUCCESS.value))\n",
    "    return dc"
   ]
  },
  {
   "cell_type": "markdown",
   "id": "885ec832",
   "metadata": {},
   "source": [
    "#### Entangle-Retry method"
   ]
  },
  {
   "cell_type": "code",
   "execution_count": 5,
   "id": "2531e707",
   "metadata": {},
   "outputs": [
    {
     "name": "stdout",
     "output_type": "stream",
     "text": [
      "Simulation from paths: [[(2, 0), (1, 0)], [(1, 0), (1, 1)], [(1, 1), (0, 1)], [(0, 1), (0, 2)]]\n",
      "[(1, 0), (1, 1)] entangled in 1 attemps: storing qubits\n",
      "[(2, 0), (1, 0)] entangled in 1 attemps: storing qubits\n",
      "[(1, 1), (0, 1)] entangled in 2 attemps: storing qubits\n",
      "[(0, 1), (0, 2)] entangled in 6 attemps: storing qubits\n",
      "CPU times: user 7.23 s, sys: 323 ms, total: 7.55 s\n",
      "Wall time: 7.55 s\n"
     ]
    }
   ],
   "source": [
    "%%time\n",
    "\n",
    "import time\n",
    "\n",
    "# Default values\n",
    "\n",
    "n = 3\n",
    "node_distance = 20\n",
    "num_iters = 1024\n",
    "est_runtime = (0.5 + 2 * n - 1) * node_distance * 5e3\n",
    "\n",
    "\n",
    "ns.sim_reset()\n",
    "network, node_qconnections = network_setup(n, node_distance = node_distance,\n",
    "                        source_frequency = 1e9 / est_runtime)\n",
    "\n",
    "qdf = pandas.DataFrame(node_qconnections)\n",
    "qdf = qdf.fillna(\"\")\n",
    "\n",
    "path = get_random_route(network)\n",
    "while len(path) <= 3:\n",
    "    path = get_random_route(network)\n",
    "paths = []\n",
    "for i in range(len(path) - 1):\n",
    "    paths.append( [path[i], path[i + 1]] )\n",
    "\n",
    "# print(paths)\n",
    "\n",
    "traffic = {\n",
    "    \"path\": paths\n",
    "}\n",
    "\n",
    "print(f\"Simulation from paths: {paths}\")\n",
    "\n",
    "df = run_simulation(network, qdf, est_runtime, num_iters, traffic, setup_datacollector)"
   ]
  },
  {
   "cell_type": "code",
   "execution_count": 9,
   "id": "542fd53f",
   "metadata": {},
   "outputs": [
    {
     "data": {
      "text/plain": [
       "{'(1, 0)': Qubit('qsource_qconn_(1, 0)<->(2, 0)-#2-1')}"
      ]
     },
     "execution_count": 9,
     "metadata": {},
     "output_type": "execute_result"
    }
   ],
   "source": [
    "network.nodes[str(paths[0][0])].entangled_qubits"
   ]
  },
  {
   "cell_type": "code",
   "execution_count": 10,
   "id": "325bc76d",
   "metadata": {},
   "outputs": [
    {
     "data": {
      "text/plain": [
       "246"
      ]
     },
     "execution_count": 10,
     "metadata": {},
     "output_type": "execute_result"
    }
   ],
   "source": [
    "len(network.nodes[str(paths[0][0])].shared_secret)"
   ]
  },
  {
   "cell_type": "code",
   "execution_count": 11,
   "id": "64c2342e",
   "metadata": {},
   "outputs": [
    {
     "data": {
      "text/plain": [
       "488"
      ]
     },
     "execution_count": 11,
     "metadata": {},
     "output_type": "execute_result"
    }
   ],
   "source": [
    "len(network.nodes[str(paths[0][1])].shared_secret) # OJOOOOO"
   ]
  }
 ],
 "metadata": {
  "colab": {
   "collapsed_sections": [],
   "provenance": []
  },
  "kernelspec": {
   "display_name": "Python 3",
   "language": "python",
   "name": "python3"
  },
  "language_info": {
   "codemirror_mode": {
    "name": "ipython",
    "version": 3
   },
   "file_extension": ".py",
   "mimetype": "text/x-python",
   "name": "python",
   "nbconvert_exporter": "python",
   "pygments_lexer": "ipython3",
   "version": "3.8.15"
  }
 },
 "nbformat": 4,
 "nbformat_minor": 5
}
